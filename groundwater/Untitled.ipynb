{
 "cells": [
  {
   "cell_type": "code",
   "execution_count": null,
   "id": "97c19305",
   "metadata": {},
   "outputs": [],
   "source": [
    "# make a management file\n",
    "format='01-jan-2000'\n",
    "managements=50\n",
    "years= range(1990,2000)\n",
    "month=['jan','may','oct','dec']\n",
    "for line in lines:\n",
    "    print(line)\n",
    "OUTPUT"
   ]
  }
 ],
 "metadata": {
  "kernelspec": {
   "display_name": "Python 3 (ipykernel)",
   "language": "python",
   "name": "python3"
  },
  "language_info": {
   "codemirror_mode": {
    "name": "ipython",
    "version": 3
   },
   "file_extension": ".py",
   "mimetype": "text/x-python",
   "name": "python",
   "nbconvert_exporter": "python",
   "pygments_lexer": "ipython3",
   "version": "3.9.7"
  }
 },
 "nbformat": 4,
 "nbformat_minor": 5
}
