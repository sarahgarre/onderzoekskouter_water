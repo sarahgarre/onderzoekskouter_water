{
 "cells": [
  {
   "cell_type": "markdown",
   "id": "0a64e20b",
   "metadata": {},
   "source": [
    "# Read and process groundwater data"
   ]
  },
  {
   "cell_type": "code",
   "execution_count": 1,
   "id": "67a2ba7f",
   "metadata": {},
   "outputs": [],
   "source": [
    "import pandas as pd\n",
    "import xlrd\n",
    "import os\n",
    "import glob"
   ]
  },
  {
   "cell_type": "code",
   "execution_count": 52,
   "id": "a8064985",
   "metadata": {},
   "outputs": [
    {
     "name": "stdout",
     "output_type": "stream",
     "text": [
      "Location: C:\\Users\\sgarre\\PycharmProjects\\onderzoekskouter_water\\groundwater\\raw_data\\ILVO_210701135826_AP825.xlsx\n",
      "File Name: ILVO_210701135826_AP825.xlsx\n",
      "Location: C:\\Users\\sgarre\\PycharmProjects\\onderzoekskouter_water\\groundwater\\raw_data\\ILVO_210701140247_AP707.xlsx\n",
      "File Name: ILVO_210701140247_AP707.xlsx\n",
      "Location: C:\\Users\\sgarre\\PycharmProjects\\onderzoekskouter_water\\groundwater\\raw_data\\ILVO_210701140912_AZ649.xlsx\n",
      "File Name: ILVO_210701140912_AZ649.xlsx\n",
      "Location: C:\\Users\\sgarre\\PycharmProjects\\onderzoekskouter_water\\groundwater\\raw_data\\ILVO_210701141446_AG083.xlsx\n",
      "File Name: ILVO_210701141446_AG083.xlsx\n",
      "Location: C:\\Users\\sgarre\\PycharmProjects\\onderzoekskouter_water\\groundwater\\raw_data\\ILVO_210701141936_CA186.xlsx\n",
      "File Name: ILVO_210701141936_CA186.xlsx\n",
      "Location: C:\\Users\\sgarre\\PycharmProjects\\onderzoekskouter_water\\groundwater\\raw_data\\ILVO_210701142455_CA969.xlsx\n",
      "File Name: ILVO_210701142455_CA969.xlsx\n",
      "Location: C:\\Users\\sgarre\\PycharmProjects\\onderzoekskouter_water\\groundwater\\raw_data\\ILVO_210701143809_AP689.xlsx\n",
      "File Name: ILVO_210701143809_AP689.xlsx\n"
     ]
    }
   ],
   "source": [
    "path = os.getcwd()\n",
    "os.chdir('raw_data')\n",
    "datapath = os.getcwd()\n",
    "os.chdir(path)\n",
    "\n",
    "xls_files = glob.glob(os.path.join(datapath, \"*.xlsx\"))\n",
    "  \n",
    "  \n",
    "# loop over the list of xls files\n",
    "ind = 0\n",
    "diver_names={}\n",
    "for f in xls_files:\n",
    "    # read the csv file\n",
    "    df = pd.read_excel(f)\n",
    "    # remove double copied parts of the logged data from the raw data files\n",
    "    df=df.drop_duplicates()  \n",
    "    # print the location and filename for check\n",
    "    print('Location:', f)\n",
    "    print('File Name:', f.split(\"\\\\\")[-1])\n",
    "    # merge all data in 1 dataframe\n",
    "    if ind == 0:\n",
    "        #First data frame loaded\n",
    "        GWdata = df\n",
    "    else:\n",
    "        # Past the rest to this dataframe\n",
    "        GWdata.append(df)\n",
    "    \n",
    "   # diver_names[ind] = df.SerialNumber[1]\n",
    "    ind = ind + 1 "
   ]
  },
  {
   "cell_type": "code",
   "execution_count": 55,
   "id": "9ef6e91a",
   "metadata": {},
   "outputs": [
    {
     "data": {
      "text/plain": [
       "array(['AP825'], dtype=object)"
      ]
     },
     "execution_count": 55,
     "metadata": {},
     "output_type": "execute_result"
    }
   ],
   "source": [
    "GWdata.SerialNumber.unique()"
   ]
  },
  {
   "cell_type": "code",
   "execution_count": null,
   "id": "b1efbcfa",
   "metadata": {},
   "outputs": [],
   "source": [
    "GWdata."
   ]
  },
  {
   "cell_type": "code",
   "execution_count": null,
   "id": "9fc0ad11",
   "metadata": {},
   "outputs": [],
   "source": []
  },
  {
   "cell_type": "code",
   "execution_count": null,
   "id": "d290e530",
   "metadata": {},
   "outputs": [],
   "source": [
    "\n"
   ]
  },
  {
   "cell_type": "code",
   "execution_count": null,
   "id": "5bae1ead",
   "metadata": {},
   "outputs": [],
   "source": []
  },
  {
   "cell_type": "code",
   "execution_count": null,
   "id": "e173512e",
   "metadata": {},
   "outputs": [],
   "source": []
  }
 ],
 "metadata": {
  "kernelspec": {
   "display_name": "Python 3",
   "language": "python",
   "name": "python3"
  },
  "language_info": {
   "codemirror_mode": {
    "name": "ipython",
    "version": 3
   },
   "file_extension": ".py",
   "mimetype": "text/x-python",
   "name": "python",
   "nbconvert_exporter": "python",
   "pygments_lexer": "ipython3",
   "version": "3.8.8"
  }
 },
 "nbformat": 4,
 "nbformat_minor": 5
}
