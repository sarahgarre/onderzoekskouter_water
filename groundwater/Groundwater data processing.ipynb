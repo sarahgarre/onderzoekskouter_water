{
 "cells": [
  {
   "cell_type": "markdown",
   "id": "0a64e20b",
   "metadata": {},
   "source": [
    "# Read and process groundwater data ILVO agricultural park"
   ]
  },
  {
   "cell_type": "markdown",
   "id": "04f6411a",
   "metadata": {},
   "source": [
    "Load essential Python modules"
   ]
  },
  {
   "cell_type": "code",
   "execution_count": 1,
   "id": "67a2ba7f",
   "metadata": {},
   "outputs": [],
   "source": [
    "import pandas as pd\n",
    "import xlrd\n",
    "import os\n",
    "import glob\n",
    "import matplotlib.pyplot as plt"
   ]
  },
  {
   "cell_type": "markdown",
   "id": "2f9f2b6d",
   "metadata": {},
   "source": [
    "## Read raw data from excell files and plot for quick inspection"
   ]
  },
  {
   "cell_type": "markdown",
   "id": "6b0ecf99",
   "metadata": {},
   "source": [
    "### Read data"
   ]
  },
  {
   "cell_type": "code",
   "execution_count": 39,
   "id": "a8064985",
   "metadata": {},
   "outputs": [
    {
     "name": "stdout",
     "output_type": "stream",
     "text": [
      "Location: C:\\Users\\sgarre\\PycharmProjects\\onderzoekskouter_water\\groundwater\\raw_data\\ILVO_210701135826_AP825.xlsx\n",
      "File Name: ILVO_210701135826_AP825.xlsx\n",
      "Location: C:\\Users\\sgarre\\PycharmProjects\\onderzoekskouter_water\\groundwater\\raw_data\\ILVO_210701140247_AP707.xlsx\n",
      "File Name: ILVO_210701140247_AP707.xlsx\n",
      "Location: C:\\Users\\sgarre\\PycharmProjects\\onderzoekskouter_water\\groundwater\\raw_data\\ILVO_210701140912_AZ649.xlsx\n",
      "File Name: ILVO_210701140912_AZ649.xlsx\n",
      "Location: C:\\Users\\sgarre\\PycharmProjects\\onderzoekskouter_water\\groundwater\\raw_data\\ILVO_210701141446_AG083.xlsx\n",
      "File Name: ILVO_210701141446_AG083.xlsx\n",
      "Location: C:\\Users\\sgarre\\PycharmProjects\\onderzoekskouter_water\\groundwater\\raw_data\\ILVO_210701141936_CA186.xlsx\n",
      "File Name: ILVO_210701141936_CA186.xlsx\n",
      "Location: C:\\Users\\sgarre\\PycharmProjects\\onderzoekskouter_water\\groundwater\\raw_data\\ILVO_210701142455_CA969.xlsx\n",
      "File Name: ILVO_210701142455_CA969.xlsx\n",
      "Location: C:\\Users\\sgarre\\PycharmProjects\\onderzoekskouter_water\\groundwater\\raw_data\\ILVO_210701143809_AP689.xlsx\n",
      "File Name: ILVO_210701143809_AP689.xlsx\n"
     ]
    }
   ],
   "source": [
    "path = os.getcwd()\n",
    "os.chdir('raw_data')\n",
    "datapath = os.getcwd()\n",
    "\n",
    "xls_files = glob.glob(os.path.join(datapath, \"*.xlsx\"))\n",
    "    \n",
    "#loop over the list of xls files\n",
    "ind = 0\n",
    "diver_names={}\n",
    "for f in xls_files:\n",
    "    # read the csv file\n",
    "    df = pd.read_excel(f)\n",
    "    # remove double copied parts of the logged data from the raw data files\n",
    "    df=df.drop_duplicates()  \n",
    "    # print the location and filename for check\n",
    "    print('Location:', f)\n",
    "    print('File Name:', f.split(\"\\\\\")[-1])\n",
    "    # merge all data in 1 dataframe\n",
    "    if ind == 0:\n",
    "        #First data frame loaded\n",
    "        GWdata = df\n",
    "    else:\n",
    "        # Paste the rest to this dataframe\n",
    "        GWdata = GWdata.append(df, ignore_index=True)\n",
    "    \n",
    "    ind = ind + 1 \n",
    "#Remove empty columns from the dataframe    \n",
    "GWdata.drop(labels=['Conductivity', 'WaterLevel','WaterLevelReference','Salinity'], axis=1)\n",
    "\n",
    "# Read manually measured water dephts for inspection of the data    \n",
    "os.chdir('info')\n",
    "df_info = pd.read_excel('manual_check_water_depth.xlsx')\n",
    "    \n",
    "os.chdir(path)"
   ]
  },
  {
   "cell_type": "code",
   "execution_count": 40,
   "id": "d290e530",
   "metadata": {},
   "outputs": [
    {
     "data": {
      "text/html": [
       "<div>\n",
       "<style scoped>\n",
       "    .dataframe tbody tr th:only-of-type {\n",
       "        vertical-align: middle;\n",
       "    }\n",
       "\n",
       "    .dataframe tbody tr th {\n",
       "        vertical-align: top;\n",
       "    }\n",
       "\n",
       "    .dataframe thead th {\n",
       "        text-align: right;\n",
       "    }\n",
       "</style>\n",
       "<table border=\"1\" class=\"dataframe\">\n",
       "  <thead>\n",
       "    <tr style=\"text-align: right;\">\n",
       "      <th></th>\n",
       "      <th>MonitoringPoint</th>\n",
       "      <th>SerialNumber</th>\n",
       "      <th>TimeStamp</th>\n",
       "      <th>Pressure</th>\n",
       "      <th>Temperature</th>\n",
       "      <th>Conductivity</th>\n",
       "      <th>WaterLevel</th>\n",
       "      <th>WaterLevelReference</th>\n",
       "      <th>Salinity</th>\n",
       "    </tr>\n",
       "  </thead>\n",
       "  <tbody>\n",
       "    <tr>\n",
       "      <th>0</th>\n",
       "      <td>ILVO</td>\n",
       "      <td>AP825</td>\n",
       "      <td>2021-06-11 09:00:00</td>\n",
       "      <td>1040.750</td>\n",
       "      <td>22.500000</td>\n",
       "      <td>NaN</td>\n",
       "      <td>NaN</td>\n",
       "      <td>NaN</td>\n",
       "      <td>NaN</td>\n",
       "    </tr>\n",
       "    <tr>\n",
       "      <th>1</th>\n",
       "      <td>ILVO</td>\n",
       "      <td>AP825</td>\n",
       "      <td>2021-06-11 09:05:00</td>\n",
       "      <td>1040.700</td>\n",
       "      <td>22.460000</td>\n",
       "      <td>NaN</td>\n",
       "      <td>NaN</td>\n",
       "      <td>NaN</td>\n",
       "      <td>NaN</td>\n",
       "    </tr>\n",
       "    <tr>\n",
       "      <th>2</th>\n",
       "      <td>ILVO</td>\n",
       "      <td>AP825</td>\n",
       "      <td>2021-06-11 09:10:00</td>\n",
       "      <td>1040.700</td>\n",
       "      <td>22.426667</td>\n",
       "      <td>NaN</td>\n",
       "      <td>NaN</td>\n",
       "      <td>NaN</td>\n",
       "      <td>NaN</td>\n",
       "    </tr>\n",
       "    <tr>\n",
       "      <th>3</th>\n",
       "      <td>ILVO</td>\n",
       "      <td>AP825</td>\n",
       "      <td>2021-06-11 09:15:00</td>\n",
       "      <td>1041.125</td>\n",
       "      <td>22.403333</td>\n",
       "      <td>NaN</td>\n",
       "      <td>NaN</td>\n",
       "      <td>NaN</td>\n",
       "      <td>NaN</td>\n",
       "    </tr>\n",
       "    <tr>\n",
       "      <th>4</th>\n",
       "      <td>ILVO</td>\n",
       "      <td>AP825</td>\n",
       "      <td>2021-06-11 09:20:00</td>\n",
       "      <td>1041.500</td>\n",
       "      <td>22.390000</td>\n",
       "      <td>NaN</td>\n",
       "      <td>NaN</td>\n",
       "      <td>NaN</td>\n",
       "      <td>NaN</td>\n",
       "    </tr>\n",
       "  </tbody>\n",
       "</table>\n",
       "</div>"
      ],
      "text/plain": [
       "  MonitoringPoint SerialNumber           TimeStamp  Pressure  Temperature  \\\n",
       "0            ILVO        AP825 2021-06-11 09:00:00  1040.750    22.500000   \n",
       "1            ILVO        AP825 2021-06-11 09:05:00  1040.700    22.460000   \n",
       "2            ILVO        AP825 2021-06-11 09:10:00  1040.700    22.426667   \n",
       "3            ILVO        AP825 2021-06-11 09:15:00  1041.125    22.403333   \n",
       "4            ILVO        AP825 2021-06-11 09:20:00  1041.500    22.390000   \n",
       "\n",
       "   Conductivity  WaterLevel  WaterLevelReference  Salinity  \n",
       "0           NaN         NaN                  NaN       NaN  \n",
       "1           NaN         NaN                  NaN       NaN  \n",
       "2           NaN         NaN                  NaN       NaN  \n",
       "3           NaN         NaN                  NaN       NaN  \n",
       "4           NaN         NaN                  NaN       NaN  "
      ]
     },
     "execution_count": 40,
     "metadata": {},
     "output_type": "execute_result"
    }
   ],
   "source": [
    "GWdata.head(5)\n"
   ]
  },
  {
   "cell_type": "code",
   "execution_count": 4,
   "id": "7537a0fc",
   "metadata": {},
   "outputs": [
    {
     "data": {
      "text/html": [
       "<div>\n",
       "<style scoped>\n",
       "    .dataframe tbody tr th:only-of-type {\n",
       "        vertical-align: middle;\n",
       "    }\n",
       "\n",
       "    .dataframe tbody tr th {\n",
       "        vertical-align: top;\n",
       "    }\n",
       "\n",
       "    .dataframe thead th {\n",
       "        text-align: right;\n",
       "    }\n",
       "</style>\n",
       "<table border=\"1\" class=\"dataframe\">\n",
       "  <thead>\n",
       "    <tr style=\"text-align: right;\">\n",
       "      <th></th>\n",
       "      <th>SerialNumber</th>\n",
       "      <th>Time</th>\n",
       "      <th>Depth in cm</th>\n",
       "      <th>Depth in cm  (after correction well height)</th>\n",
       "      <th>Remarks</th>\n",
       "    </tr>\n",
       "  </thead>\n",
       "  <tbody>\n",
       "    <tr>\n",
       "      <th>0</th>\n",
       "      <td>AP689</td>\n",
       "      <td>NaT</td>\n",
       "      <td>166</td>\n",
       "      <td>53</td>\n",
       "      <td>NaN</td>\n",
       "    </tr>\n",
       "    <tr>\n",
       "      <th>1</th>\n",
       "      <td>AP689</td>\n",
       "      <td>NaT</td>\n",
       "      <td>168</td>\n",
       "      <td>55</td>\n",
       "      <td>NaN</td>\n",
       "    </tr>\n",
       "    <tr>\n",
       "      <th>2</th>\n",
       "      <td>AP689</td>\n",
       "      <td>2021-06-11 11:27:00</td>\n",
       "      <td>167</td>\n",
       "      <td>54</td>\n",
       "      <td>NaN</td>\n",
       "    </tr>\n",
       "    <tr>\n",
       "      <th>3</th>\n",
       "      <td>AP689</td>\n",
       "      <td>2021-06-22 12:40:00</td>\n",
       "      <td>117</td>\n",
       "      <td>4</td>\n",
       "      <td>NaN</td>\n",
       "    </tr>\n",
       "    <tr>\n",
       "      <th>4</th>\n",
       "      <td>AP689</td>\n",
       "      <td>2021-07-01 00:00:00</td>\n",
       "      <td>121</td>\n",
       "      <td>8</td>\n",
       "      <td>NaN</td>\n",
       "    </tr>\n",
       "  </tbody>\n",
       "</table>\n",
       "</div>"
      ],
      "text/plain": [
       "  SerialNumber                Time  Depth in cm  \\\n",
       "0        AP689                 NaT          166   \n",
       "1        AP689                 NaT          168   \n",
       "2        AP689 2021-06-11 11:27:00          167   \n",
       "3        AP689 2021-06-22 12:40:00          117   \n",
       "4        AP689 2021-07-01 00:00:00          121   \n",
       "\n",
       "   Depth in cm  (after correction well height) Remarks  \n",
       "0                                           53     NaN  \n",
       "1                                           55     NaN  \n",
       "2                                           54     NaN  \n",
       "3                                            4     NaN  \n",
       "4                                            8     NaN  "
      ]
     },
     "execution_count": 4,
     "metadata": {},
     "output_type": "execute_result"
    }
   ],
   "source": [
    "df_info.head(5)"
   ]
  },
  {
   "cell_type": "markdown",
   "id": "64739371",
   "metadata": {},
   "source": [
    "### Plot raw data for visual check"
   ]
  },
  {
   "cell_type": "code",
   "execution_count": 35,
   "id": "8186e038",
   "metadata": {},
   "outputs": [],
   "source": [
    "def plot_gb_time_series(df, ts_name, gb_name, value_name, figsize=(30,7), title=None):\n",
    "    '''\n",
    "    Runs groupby on Pandas dataframe and produces a time series chart.\n",
    "\n",
    "    Parameters:\n",
    "    ----------\n",
    "    df : Pandas dataframe\n",
    "    ts_name : string\n",
    "        The name of the df column that has the datetime timestamp x-axis values.\n",
    "    gb_name : string\n",
    "        The name of the df column to perform group-by.\n",
    "    value_name : string\n",
    "        The name of the df column for the y-axis.\n",
    "    figsize : tuple of two integers\n",
    "        Figure size of the resulting plot, e.g. (20, 7)\n",
    "    title : string\n",
    "        Optional title\n",
    "    '''\n",
    "    #xtick_locator = DayLocator(interval=1)\n",
    "    #xtick_dateformatter = DateFormatter('%m/%d/%Y')\n",
    "    fig, ax = plt.subplots(figsize=figsize)\n",
    "    for key, grp in df.groupby([gb_name]):\n",
    "        ax = grp.plot(ax=ax, kind='line', x=ts_name, y=value_name, label=key, marker='.')\n",
    "    #ax.xaxis.set_major_locator(xtick_locator)\n",
    "    #ax.xaxis.set_major_formatter(xtick_dateformatter)\n",
    "    ax.autoscale_view()\n",
    "    ax.legend(loc='upper left')\n",
    "    _ = plt.xticks(rotation=90, )\n",
    "    _ = plt.grid()\n",
    "    _ = plt.xlabel('')\n",
    "    _ = plt.ylim(df[value_name].min(), df[value_name].max())\n",
    "    _ = plt.ylabel(value_name)\n",
    "    if title is not None:\n",
    "        _ = plt.title(title)\n",
    "    _ = plt.show()"
   ]
  },
  {
   "cell_type": "code",
   "execution_count": 36,
   "id": "bb729875",
   "metadata": {},
   "outputs": [
    {
     "data": {
      "image/png": "[encoded data removed]",
      "text/plain": [
       "<Figure size 720x360 with 1 Axes>"
      ]
     },
     "metadata": {
      "needs_background": "light"
     },
     "output_type": "display_data"
    }
   ],
   "source": [
    "# Do the actual plotting using the abovedefined function\n",
    "\n",
    "plot_gb_time_series(GWdata, 'TimeStamp', 'SerialNumber', 'Pressure',\n",
    "                    figsize=(10, 5), title=\"raw groundwater data REMUE parcels ILVO\")"
   ]
  },
  {
   "cell_type": "code",
   "execution_count": 49,
   "id": "9fc0ad11",
   "metadata": {
    "scrolled": true
   },
   "outputs": [
    {
     "data": {
      "text/plain": [
       "array(['AP825', 'AP707', 'AZ649', 'AG083', 'CA186', 'CA969', 'AP689'],\n",
       "      dtype=object)"
      ]
     },
     "execution_count": 49,
     "metadata": {},
     "output_type": "execute_result"
    }
   ],
   "source": [
    "GWdata.SerialNumber.unique()[:]"
   ]
  },
  {
   "cell_type": "code",
   "execution_count": null,
   "id": "9ef6e91a",
   "metadata": {},
   "outputs": [],
   "source": []
  },
  {
   "cell_type": "markdown",
   "id": "395dd64f",
   "metadata": {},
   "source": [
    "## Processing steps"
   ]
  },
  {
   "attachments": {},
   "cell_type": "markdown",
   "id": "475e1fe5",
   "metadata": {},
   "source": [
    "Dataset Processing explanation\t\t\t\t\t\t\n",
    "1. Collect TP from divers\t\t\t\t\t\t\n",
    "2. TP - AP = WP\t\t\t\t\t\t\n",
    "3. Take the timestep \"t\" at which a manual measurement is realized\t\t\t\t\t\t\n",
    "4. H(t) = TW-WD(t)\t\t\t\t\t\t\n",
    "4. H (t+1) = H(t)  + (WP (t+1) - WP (t))/100\t\t\t\t\t\t\n",
    "\t\t\t\t\t\t\n",
    "\t\t\t\t\t\t\n",
    "\t\t\t\t\t\t\n",
    "With :\t\t\t\t\t\t\n",
    "TP = Total Pressure (cmH20)\t\t\t\t\t\t\n",
    "AP= Air Pressure (cmH20)\t\t\t\t\t\t\n",
    "WP= Water Pressure (cmH20)\t\t\t\t\t\t\n",
    "H=Hydraulic Head (mTAW)\t\t\t\t\t\t\n",
    "TW=Top well Elevation (mTAW)\t\t\t\t\t\t\n",
    "WD=Water depth from the top well (m)\t\t\t\t\t\t\n",
    "\t\t\t\t\t\t\n",
    "\t\t\t\t\t\t\n",
    "| well   name | well   name | soil elevation(mTAW) | well height above the ground (m) | Top well (mTAW) |\n",
    "|:-----------:|:-----------:|:--------------------:|:--------------------------------:|:---------------:|\n",
    "|  AP707  |   Remue_6   |         18,15        |                 1                |      19,15      |\n",
    "|   CA969   |   Remue_5   |         14,69        |               1,06               |      15,75      |\n",
    "|   CA186  |   Remue_4   |         13,5         |               1,15               |      14,65      |\n",
    "|   AZ649   |   Remue_3   |         14,75        |                 1                |      15,75      |\n",
    "|   AG083  |   Remue_2   |         13,53        |                1,2               |      14,73      |\n",
    "|   AP689   |   Remue_1   |         14,34        |               1,13               |      15,47      |"
   ]
  },
  {
   "cell_type": "code",
   "execution_count": null,
   "id": "1e8b050c",
   "metadata": {},
   "outputs": [],
   "source": [
    "# To DO\n",
    "Dict = { SerialNumber : GWdata.SerialNumber.unique(), \n",
    "        WellName : ['Remue_','','','','',''],\n",
    "        'A' : {},\n",
    "        'B' : {}}\n",
    "print(\"Dict well info: \")\n",
    "print(Dict)"
   ]
  }
 ],
 "metadata": {
  "kernelspec": {
   "display_name": "Python 3",
   "language": "python",
   "name": "python3"
  },
  "language_info": {
   "codemirror_mode": {
    "name": "ipython",
    "version": 3
   },
   "file_extension": ".py",
   "mimetype": "text/x-python",
   "name": "python",
   "nbconvert_exporter": "python",
   "pygments_lexer": "ipython3",
   "version": "3.8.8"
  }
 },
 "nbformat": 4,
 "nbformat_minor": 5
}
